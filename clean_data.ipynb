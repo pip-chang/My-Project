{
 "cells": [
  {
   "cell_type": "code",
   "execution_count": 11,
   "metadata": {},
   "outputs": [],
   "source": [
    "import jsonlines\n",
    "import json\n",
    "import pandas as pd\n",
    "from pathlib import Path"
   ]
  },
  {
   "cell_type": "code",
   "execution_count": 10,
   "metadata": {},
   "outputs": [
    {
     "name": "stdout",
     "output_type": "stream",
     "text": [
      "File 'example-data/20220101_20220331_submissions.jsonl' has duplicates.\n"
     ]
    }
   ],
   "source": [
    "INPUT_DIR = \"./example-data\"\n",
    "paths = list(Path(INPUT_DIR).glob(\"*.jsonl\"))\n",
    "\n",
    "# check duplicates\n",
    "has_dups = []\n",
    "\n",
    "for path in paths:\n",
    "    data = pd.read_json(path, lines=True)\n",
    "    data = data.astype(str)\n",
    "    original =  data.shape[0]\n",
    "    newdata = data.drop_duplicates()\n",
    "    dropped = newdata.shape[0]\n",
    "    if original != dropped:\n",
    "        has_dups.append(path)\n",
    "\n",
    "if has_dups != []:\n",
    "    for path in has_dups:\n",
    "        print(f\"File '{path}' has duplicates.\")"
   ]
  },
  {
   "cell_type": "code",
   "execution_count": 28,
   "metadata": {},
   "outputs": [],
   "source": [
    "OUTPUT_DIR = \"./example-data\"\n",
    "\n",
    "# drop duplicates\n",
    "for path in has_dups:\n",
    "    name = path.absolute().as_posix().split(\"/\")[-1]\n",
    "    output_path = (Path(OUTPUT_DIR) / f\"new_{name}\")\n",
    "    data = pd.read_json(path, lines=True)\n",
    "    data = data.astype(str)\n",
    "    newdata = data.drop_duplicates()\n",
    "    with output_path.open(mode=\"a+\", encoding=\"utf-8\") as f:\n",
    "        newjson = newdata.to_json(orient='records', lines=True)\n",
    "        f.write(newjson)\n"
   ]
  },
  {
   "cell_type": "code",
   "execution_count": null,
   "metadata": {},
   "outputs": [],
   "source": []
  }
 ],
 "metadata": {
  "interpreter": {
   "hash": "5133d6627b29444d67e912e327b4a13b7465446dc6d927674a36a5be79b6f7b5"
  },
  "kernelspec": {
   "display_name": "Python 3.10.4 ('pipje')",
   "language": "python",
   "name": "python3"
  },
  "language_info": {
   "codemirror_mode": {
    "name": "ipython",
    "version": 3
   },
   "file_extension": ".py",
   "mimetype": "text/x-python",
   "name": "python",
   "nbconvert_exporter": "python",
   "pygments_lexer": "ipython3",
   "version": "3.10.4"
  },
  "orig_nbformat": 4
 },
 "nbformat": 4,
 "nbformat_minor": 2
}
